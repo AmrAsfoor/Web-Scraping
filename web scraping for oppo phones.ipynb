{
 "cells": [
  {
   "cell_type": "code",
   "execution_count": 57,
   "metadata": {},
   "outputs": [
    {
     "name": "stdout",
     "output_type": "stream",
     "text": [
      "May be you get error beacause of that you will exceed the reqests thredhold so don't worry there is no error\n",
      "try to split links list into seveal list and execute the code again\n"
     ]
    }
   ],
   "source": [
    "import requests\n",
    "import pandas as pd\n",
    "from bs4 import BeautifulSoup\n",
    "\n",
    "try:\n",
    "    links = []\n",
    "    #list of main pages that contais all models\n",
    "    pages=['https://m.gsmarena.com/oppo-phones-82.php','https://m.gsmarena.com/oppo-phones-f-82-0-p2.php',\n",
    "          'https://m.gsmarena.com/oppo-phones-f-82-0-p3.php','https://m.gsmarena.com/oppo-phones-f-82-0-p4.php',\n",
    "          'https://m.gsmarena.com/oppo-phones-f-82-0-p5.php','https://m.gsmarena.com/oppo-phones-f-82-0-p6.php',\n",
    "          'https://m.gsmarena.com/oppo-phones-f-82-0-p7.php','https://m.gsmarena.com/oppo-phones-f-82-0-p8.php']\n",
    "    #loop to exteact links for all mob models with data \n",
    "    for p in pages:\n",
    "        page = requests.get(p)\n",
    "        soup = BeautifulSoup(page.content , 'html.parser')\n",
    "        #to specify the div that contais links\n",
    "        div = soup.find('div',class_='general-menu').find_all('a')\n",
    "    \n",
    "        #loop to get links from the div\n",
    "        for link in div:\n",
    "        #adding the link to links list\n",
    "            links.append(link.get('href'))\n",
    "\n",
    "    #adding the missed part of the link to all links\n",
    "    for i in range (len(links)):\n",
    "        links[i]='https://m.gsmarena.com/'+links[i]\n",
    "except:\n",
    "    print('May be you get error beacause of that you will exceed the reqests thredhold so don\\'t worry there is no error\\ntry to split links list into seveal list and execute the code again')"
   ]
  },
  {
   "cell_type": "code",
   "execution_count": 50,
   "metadata": {
    "scrolled": false
   },
   "outputs": [],
   "source": [
    "#empty list to put the data into it\n",
    "last_table = []\n",
    "#loop to open every mobile model link and extract the needed data from it\n",
    "for link in links:\n",
    "    page = requests.get(link)\n",
    "    soup = BeautifulSoup(page.text , 'html.parser')\n",
    "    model_name = soup.find('h1',class_='section nobor').contents\n",
    "    #this two lines of code took a long time to get it because it's difficult to get the content of that tag cause of there\n",
    "    #was alot of tage with the same class but the difference is the 'data-spec' and it wasn't defined as attribute \n",
    "    #but this is the way it had worked\n",
    "    ram_rom = soup.find('td', {'class':\"nfo\" ,'data-spec':\"internalmemory\"}).get_text()\n",
    "    colors = soup.find('td', {'class':\"nfo\" ,'data-spec':\"colors\"}).get_text()\n",
    "    #adding the extracted data to the list\n",
    "    data = {'Model Name':model_name,'Ram & Rom':ram_rom,'colors':colors}\n",
    "    last_table.append(data)"
   ]
  },
  {
   "cell_type": "code",
   "execution_count": 51,
   "metadata": {},
   "outputs": [],
   "source": [
    "#tranform the list to Data Frame to be easy to export it as CSV file\n",
    "final_table = pd.DataFrame(last_table)"
   ]
  },
  {
   "cell_type": "code",
   "execution_count": 52,
   "metadata": {},
   "outputs": [],
   "source": [
    "#export the final table as CSV file \n",
    "final_table.to_csv('Oppo phones Data.csv')"
   ]
  }
 ],
 "metadata": {
  "kernelspec": {
   "display_name": "Python 3",
   "language": "python",
   "name": "python3"
  },
  "language_info": {
   "codemirror_mode": {
    "name": "ipython",
    "version": 3
   },
   "file_extension": ".py",
   "mimetype": "text/x-python",
   "name": "python",
   "nbconvert_exporter": "python",
   "pygments_lexer": "ipython3",
   "version": "3.8.5"
  }
 },
 "nbformat": 4,
 "nbformat_minor": 4
}
